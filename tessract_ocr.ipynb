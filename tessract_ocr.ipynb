{
 "cells": [
  {
   "cell_type": "code",
   "execution_count": null,
   "id": "876191a0",
   "metadata": {},
   "outputs": [],
   "source": [
    "import pytesseract\n",
    "from os import listdir\n",
    "from os.path import isfile, join\n",
    "import os\n",
    "from natsort import natsorted\n",
    "from pytesseract import Output\n",
    "from PIL import Image\n",
    "import time\n",
    "import cv2"
   ]
  },
  {
   "cell_type": "code",
   "execution_count": null,
   "id": "5fbeadae",
   "metadata": {},
   "outputs": [],
   "source": [
    "CWD_PATH = os.getcwd()"
   ]
  },
  {
   "cell_type": "code",
   "execution_count": null,
   "id": "199d8926",
   "metadata": {},
   "outputs": [],
   "source": [
    "PATH_TO_TEST_IMAGES_DIR = 'binary'"
   ]
  },
  {
   "cell_type": "code",
   "execution_count": null,
   "id": "8c78ead4",
   "metadata": {},
   "outputs": [],
   "source": []
  }
 ],
 "metadata": {
  "kernelspec": {
   "display_name": "Python 3 (ipykernel)",
   "language": "python",
   "name": "python3"
  },
  "language_info": {
   "codemirror_mode": {
    "name": "ipython",
    "version": 3
   },
   "file_extension": ".py",
   "mimetype": "text/x-python",
   "name": "python",
   "nbconvert_exporter": "python",
   "pygments_lexer": "ipython3",
   "version": "3.8.10"
  }
 },
 "nbformat": 4,
 "nbformat_minor": 5
}
